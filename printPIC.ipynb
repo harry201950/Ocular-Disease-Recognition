{
 "cells": [
  {
   "cell_type": "code",
   "execution_count": 2,
   "id": "fadb7cab",
   "metadata": {},
   "outputs": [],
   "source": [
    "from tensorflow.keras.models import load_model\n",
    "from tensorflow.keras.applications.imagenet_utils import preprocess_input\n",
    "import cv2"
   ]
  },
  {
   "cell_type": "code",
   "execution_count": 23,
   "id": "b9a78c2d",
   "metadata": {},
   "outputs": [],
   "source": [
    "# 출력할 사진 이름 및 경로\n",
    "pathAndFileName = \"C:/Users/user/Desktop/project_ocular/preprocessed_images/11_right.jpg\"\n",
    "# 저장된 모델가중치 파일 불러오기\n",
    "saveModelFile = \"C:/Users/user/Desktop/project_ocular/efficient_Datapro(0.0826_0.9650).h5\""
   ]
  },
  {
   "cell_type": "code",
   "execution_count": 17,
   "id": "b0b4191d",
   "metadata": {},
   "outputs": [],
   "source": [
    "def predict_img_view(file, model_file):\n",
    "    img = cv2.imread(file)\n",
    "    img = cv2.cvtColor(img, cv2.COLOR_BGR2RGB)\n",
    "    img_2 = cv2.imread(file, 1)\n",
    "    edges = cv2.Canny(img_2, 0.0005, 20)           \n",
    "    pts = np.argwhere(edges>0)\n",
    "    y1,x1 = pts.min(axis=0)\n",
    "    y2,x2 = pts.max(axis=0)\n",
    "    \n",
    "    new_img = img_2[y1:y2, x1:x2, :]\n",
    "    new_img = cv2.resize(new_img,(250, 250))\n",
    "    \n",
    "    pred_img = preprocess_input(new_img)\n",
    "    model = load_model(model_file)\n",
    "    li = [\"A\",\"C\",\"D\",\"G\",\"H\",\"M\",\"N\",\"O\"]\n",
    "    string = li[model.predict(pred_img.reshape(1,250,250,3)).argmax()]\n",
    "    \n",
    "    cv2.putText(new_img, string, (100, 250), cv2.FONT_HERSHEY_DUPLEX, 2, (255, 255, 255))\n",
    "    cv2.imshow('put Text', new_img/255.)\n",
    "    cv2.waitKey(0)\n",
    "    cv2.destroyAllWindows()"
   ]
  },
  {
   "cell_type": "code",
   "execution_count": 24,
   "id": "954109e6",
   "metadata": {},
   "outputs": [],
   "source": [
    "predict_img_view(pathAndFileName, saveModelFile)"
   ]
  },
  {
   "cell_type": "code",
   "execution_count": null,
   "id": "914d4b3d",
   "metadata": {},
   "outputs": [],
   "source": []
  }
 ],
 "metadata": {
  "kernelspec": {
   "display_name": "Python 3 (ipykernel)",
   "language": "python",
   "name": "python3"
  },
  "language_info": {
   "codemirror_mode": {
    "name": "ipython",
    "version": 3
   },
   "file_extension": ".py",
   "mimetype": "text/x-python",
   "name": "python",
   "nbconvert_exporter": "python",
   "pygments_lexer": "ipython3",
   "version": "3.9.7"
  },
  "toc": {
   "base_numbering": 1,
   "nav_menu": {},
   "number_sections": true,
   "sideBar": true,
   "skip_h1_title": false,
   "title_cell": "Table of Contents",
   "title_sidebar": "Contents",
   "toc_cell": false,
   "toc_position": {},
   "toc_section_display": true,
   "toc_window_display": false
  },
  "varInspector": {
   "cols": {
    "lenName": 16,
    "lenType": 16,
    "lenVar": 40
   },
   "kernels_config": {
    "python": {
     "delete_cmd_postfix": "",
     "delete_cmd_prefix": "del ",
     "library": "var_list.py",
     "varRefreshCmd": "print(var_dic_list())"
    },
    "r": {
     "delete_cmd_postfix": ") ",
     "delete_cmd_prefix": "rm(",
     "library": "var_list.r",
     "varRefreshCmd": "cat(var_dic_list()) "
    }
   },
   "types_to_exclude": [
    "module",
    "function",
    "builtin_function_or_method",
    "instance",
    "_Feature"
   ],
   "window_display": false
  }
 },
 "nbformat": 4,
 "nbformat_minor": 5
}
